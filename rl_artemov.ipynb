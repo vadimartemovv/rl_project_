{
 "cells": [
  {
   "cell_type": "code",
   "execution_count": 1,
   "id": "9bb3361c",
   "metadata": {
    "slideshow": {
     "slide_type": "slide"
    }
   },
   "outputs": [],
   "source": [
    "import matplotlib.pyplot as plt\n",
    "import numpy as np\n",
    "\n",
    "import torch\n",
    "import torch.nn as nn\n",
    "import torch.nn.functional as F\n",
    "import torch.optim as optim\n",
    "from torch.distributions import Categorical\n",
    "\n",
    "from tqdm import tqdm_notebook\n",
    "from collections import deque"
   ]
  },
  {
   "cell_type": "code",
   "execution_count": null,
   "id": "c42870db",
   "metadata": {},
   "outputs": [],
   "source": []
  },
  {
   "cell_type": "code",
   "execution_count": 2,
   "id": "cad19e80",
   "metadata": {},
   "outputs": [],
   "source": [
    "#[ 0,  1,  2,  3,  4,  5,  6,  7,  8, 9, 10, 11]\n",
    "#[Cs, Cd, Gs, Gd, Ts, Td, Ns, Nd, Yd, Y, Hs, Hh]"
   ]
  },
  {
   "cell_type": "code",
   "execution_count": null,
   "id": "5190dfb2",
   "metadata": {},
   "outputs": [],
   "source": []
  },
  {
   "cell_type": "code",
   "execution_count": 3,
   "id": "2d08f381",
   "metadata": {
    "slideshow": {
     "slide_type": "slide"
    }
   },
   "outputs": [],
   "source": [
    "def system_transition(state):\n",
    "    #print(state)\n",
    "    \n",
    "    Gd = state[3]\n",
    "    Gs = Gd\n",
    "    \n",
    "    Y = ((80 / 3) + (4 / 6) * state[11]) / 5 + 4 * state[9] / 5\n",
    "    Yd = Y / 2\n",
    "    \n",
    "    Nd = Y\n",
    "    Ns = Y\n",
    "    \n",
    "    Ts = (1 / 2) * Y\n",
    "    Td = (1 / 2) * Y\n",
    "    \n",
    "    Cd = (1 / 4) * Y + (1 / 2) * state[11]\n",
    "    Cs = Cd\n",
    "    \n",
    "    Hs = 20 - (1 / 2) * Y + state[10]\n",
    "    Hh = (1 / 2) * Y - Cd\n",
    "    \n",
    "    return [Cs, Cd, Gs, Gd, Ts, Td, Ns, Nd, Yd, Y, Hs, Hh]"
   ]
  },
  {
   "cell_type": "code",
   "execution_count": null,
   "id": "6758a317",
   "metadata": {},
   "outputs": [],
   "source": []
  },
  {
   "cell_type": "code",
   "execution_count": 4,
   "id": "f4c7de95",
   "metadata": {
    "slideshow": {
     "slide_type": "slide"
    }
   },
   "outputs": [],
   "source": [
    "class Environment():\n",
    "    \n",
    "    def __init__(self):\n",
    "        \n",
    "        self.trans_func = system_transition\n",
    "                    #[ 0,  1,  2,  3,  4,  5,  6,  7,  8,  9,  10,  11]\n",
    "                    #[Cs, Cd, Gs, Gd, Ts, Td, Ns, Nd, Yd,  Y,  Hs,  Hh]\n",
    "        self.state = [ 0,  0,  0, 20,  0,  0,  0,  0,  0, 30, 100, 100]\n",
    "        self.statehistory = []\n",
    "        \n",
    "        for i in range(50):\n",
    "            self.state = self.trans_func(self.state)\n",
    "            self.statehistory.append(self.state)\n",
    "            \n",
    "        self.actions = [1, 0.99, 0.97, 0.95, 0.9, 1.01, 1.03, 1.05, 1.1]\n",
    "        self.y_steady_state = np.mean([i[9] for i in self.statehistory[-10:]])\n",
    "        self.running_loss = 0\n",
    "        self.episode_num = 0\n",
    "         \n",
    "    def printstate(self):\n",
    "        print(self.state)\n",
    "        \n",
    "    def reset(self):\n",
    "        \n",
    "        self.trans_func = system_transition\n",
    "                    #[ 0,  1,  2,  3,  4,  5,  6,  7,  8,  9,  10,  11]\n",
    "                    #[Cs, Cd, Gs, Gd, Ts, Td, Ns, Nd, Yd,  Y,  Hs,  Hh]\n",
    "        self.state = [ 0,  0,  0, 20,  0,  0,  0,  0,  0, 30, 100, 100]\n",
    "        self.statehistory = []\n",
    "        for i in range(50):\n",
    "            self.state = self.trans_func(self.state)\n",
    "            self.statehistory.append(self.state)\n",
    "            \n",
    "        self.actions = [1, 0.99, 0.97, 0.95, 0.9, 1.01, 1.03, 1.05, 1.1]\n",
    "        self.y_steady_state = np.mean([i[9] for i in self.statehistory[-10:]])\n",
    "        self.running_loss = 0\n",
    "        self.episode_num = 0\n",
    "            \n",
    "    def observation(self):\n",
    "        \n",
    "        return torch.tensor([item for sublist in self.statehistory[-11:-2] for item in sublist])\n",
    "    \n",
    "    \n",
    "    def step(self, action):\n",
    "        \n",
    "        self.state = self.trans_func(self.state)\n",
    "        if self.episode_num % 40 == 0:\n",
    "            #print(\"H\")\n",
    "            self.state[9] = self.state[9]*1.5\n",
    "            #print(\"H\")\n",
    "         \n",
    "        if action is not None:\n",
    "            self.state[4] = np.clip(self.actions[action] * self.state[4], 15, 25)\n",
    "        self.statehistory.append(self.state)\n",
    "        self.running_loss += (self.state[9] - self.y_steady_state)**2 / self.y_steady_state\n",
    "        self.episode_num += 1\n",
    "        \n",
    "        return self.state, 100 - abs(self.state[9] - self.y_steady_state)/self.y_steady_state , self.episode_num == 100   "
   ]
  },
  {
   "cell_type": "code",
   "execution_count": 5,
   "id": "49e1709b",
   "metadata": {
    "slideshow": {
     "slide_type": "slide"
    }
   },
   "outputs": [],
   "source": [
    "env = Environment()\n",
    "for i in range(100):\n",
    "    env.step(None)"
   ]
  },
  {
   "cell_type": "code",
   "execution_count": null,
   "id": "9291dcda",
   "metadata": {},
   "outputs": [],
   "source": []
  },
  {
   "cell_type": "code",
   "execution_count": 6,
   "id": "16049b6d",
   "metadata": {
    "slideshow": {
     "slide_type": "slide"
    }
   },
   "outputs": [
    {
     "data": {
      "image/png": "[encoded data removed]",
      "text/plain": [
       "<Figure size 640x480 with 1 Axes>"
      ]
     },
     "metadata": {},
     "output_type": "display_data"
    }
   ],
   "source": [
    "plt.title(label=\"Output path\")\n",
    "plt.plot([i[9] for i in env.statehistory][20:], label = \"Y\");\n",
    "plt.plot([30 for i in env.statehistory][20:], label = \"Y stady state\");\n",
    "plt.plot([20 for i in env.statehistory][20:],label = \"Gov-t control\")\n",
    "plt.xlabel('Time period');\n",
    "plt.ylabel('Value');\n",
    "plt.legend();"
   ]
  },
  {
   "cell_type": "code",
   "execution_count": null,
   "id": "5c7bfc4b",
   "metadata": {},
   "outputs": [],
   "source": []
  },
  {
   "cell_type": "code",
   "execution_count": 11,
   "id": "4d43fbc8",
   "metadata": {
    "slideshow": {
     "slide_type": "slide"
    }
   },
   "outputs": [],
   "source": [
    "# Observation -----> Action\n",
    "class Actor(nn.Module):\n",
    "    \n",
    "    def __init__(self, observation_space, action_space):\n",
    "        super(Actor, self).__init__()\n",
    "        self.input_layer = nn.Linear(observation_space, 128)\n",
    "        self.output_layer = nn.Linear(128, action_space)\n",
    "    \n",
    "    def forward(self, x):\n",
    "        x = self.input_layer(x)\n",
    "        x = F.relu(x)\n",
    "        actions = self.output_layer(x)\n",
    "        action_probs = F.softmax(actions, dim=1)\n",
    "        \n",
    "        return action_probs\n",
    "    \n",
    "# State -----> Reward\n",
    "class Critic(nn.Module):\n",
    "\n",
    "    def __init__(self, observation_space):\n",
    "        super(Critic, self).__init__()\n",
    "        self.input_layer = nn.Linear(observation_space, 128)\n",
    "        self.output_layer = nn.Linear(128, 1)\n",
    "        \n",
    "    def forward(self, x):\n",
    "        x = self.input_layer(x)\n",
    "        x = F.relu(x)\n",
    "        state_value = self.output_layer(x)\n",
    "\n",
    "        return state_value\n",
    "    \n",
    "# Network + State -----> Action    \n",
    "def select_action(network, state):\n",
    "\n",
    "    state = np.array(state)\n",
    "    state = torch.from_numpy(state).float().unsqueeze(0)\n",
    "\n",
    "    action_probs = network(state)\n",
    "    state = state.detach()\n",
    "    \n",
    "    m = Categorical(action_probs)\n",
    "    action = m.sample()\n",
    "\n",
    "    return action.item(), m.log_prob(action)"
   ]
  },
  {
   "cell_type": "code",
   "execution_count": null,
   "id": "fc24214a",
   "metadata": {},
   "outputs": [],
   "source": []
  },
  {
   "cell_type": "code",
   "execution_count": 13,
   "id": "013a3f7d",
   "metadata": {
    "slideshow": {
     "slide_type": "slide"
    }
   },
   "outputs": [],
   "source": [
    "DEVICE =  \"cpu\"\n",
    "stateval_network = Critic(len(env.state)).to(DEVICE)\n",
    "policy_network = Actor(len(env.state), len(env.actions)).to(DEVICE)"
   ]
  },
  {
   "cell_type": "code",
   "execution_count": null,
   "id": "113f4472",
   "metadata": {},
   "outputs": [],
   "source": []
  },
  {
   "cell_type": "code",
   "execution_count": 14,
   "id": "70b2ee7f",
   "metadata": {
    "slideshow": {
     "slide_type": "slide"
    }
   },
   "outputs": [],
   "source": [
    "policy_optimizer = optim.SGD(policy_network.parameters(), lr=0.001)\n",
    "stateval_optimizer = optim.SGD(stateval_network.parameters(), lr=0.001)"
   ]
  },
  {
   "cell_type": "code",
   "execution_count": null,
   "id": "1dd1a46a",
   "metadata": {},
   "outputs": [],
   "source": []
  },
  {
   "cell_type": "code",
   "execution_count": 16,
   "id": "26bed8ed",
   "metadata": {
    "slideshow": {
     "slide_type": "slide"
    }
   },
   "outputs": [
    {
     "name": "stderr",
     "output_type": "stream",
     "text": [
      "/var/folders/w6/qhzfl2zs7fz7szd_t214c1kr0000gn/T/ipykernel_84703/3492493245.py:9: TqdmDeprecationWarning: This function will be removed in tqdm==5.0.0\n",
      "Please use `tqdm.notebook.tqdm` instead of `tqdm.tqdm_notebook`\n",
      "  for episode in tqdm_notebook(range(NUM_EPISODES)):\n"
     ]
    },
    {
     "data": {
      "application/vnd.jupyter.widget-view+json": {
       "model_id": "dbd09d4c9ecb400caf3536288a7da030",
       "version_major": 2,
       "version_minor": 0
      },
      "text/plain": [
       "  0%|          | 0/1000 [00:00<?, ?it/s]"
      ]
     },
     "metadata": {},
     "output_type": "display_data"
    }
   ],
   "source": [
    "DISCOUNT_FACTOR = 0.999\n",
    "NUM_EPISODES = 1000\n",
    "MAX_STEPS = 10000\n",
    "DEVICE =  \"cpu\"\n",
    "\n",
    "scores = []\n",
    "recent_scores = deque(maxlen = 100)\n",
    "\n",
    "for episode in tqdm_notebook(range(NUM_EPISODES)):\n",
    "    \n",
    "    env.reset()\n",
    "    state = env.state\n",
    "    done = False\n",
    "    score = 0\n",
    "    I = 1\n",
    "    \n",
    "    for step in range(MAX_STEPS):\n",
    "        \n",
    "\n",
    "        action, lp = select_action(policy_network, state)\n",
    "\n",
    "        new_state, reward, done = env.step(action)\n",
    "\n",
    "        score += reward\n",
    "\n",
    "        state_tensor = torch.tensor(state).float().to(DEVICE)\n",
    "        state_val = stateval_network(state_tensor)\n",
    "        \n",
    "\n",
    "        new_state_tensor = torch.tensor(new_state).float().to(DEVICE) \n",
    "        new_state_val = stateval_network(new_state_tensor)\n",
    "        \n",
    "\n",
    "        if done:\n",
    "            new_state_val = torch.tensor([0]).to(DEVICE)\n",
    "        \n",
    "\n",
    "        val_loss = F.mse_loss(reward + DISCOUNT_FACTOR * new_state_val, state_val)\n",
    "        val_loss *= I\n",
    "        advantage = reward + DISCOUNT_FACTOR * new_state_val.item() - state_val.item()\n",
    "        policy_loss = -lp * advantage\n",
    "        policy_loss *= I\n",
    "        policy_optimizer.zero_grad()\n",
    "        policy_loss.backward(retain_graph=True)\n",
    "        policy_optimizer.step()\n",
    "        \n",
    "\n",
    "        stateval_optimizer.zero_grad()\n",
    "        val_loss.backward()\n",
    "        stateval_optimizer.step()\n",
    "        \n",
    "        if done:\n",
    "            break\n",
    "\n",
    "        state = new_state\n",
    "        I *= DISCOUNT_FACTOR\n",
    "\n",
    "    scores.append(score)\n",
    "    recent_scores.append(score)"
   ]
  },
  {
   "cell_type": "code",
   "execution_count": 27,
   "id": "51ab39ea",
   "metadata": {
    "slideshow": {
     "slide_type": "slide"
    }
   },
   "outputs": [
    {
     "data": {
      "image/png": "[encoded data removed]",
      "text/plain": [
       "<Figure size 640x480 with 1 Axes>"
      ]
     },
     "metadata": {},
     "output_type": "display_data"
    }
   ],
   "source": [
    "plt.plot(scores, label = 'reward');\n",
    "plt.title(label=\"Accumulated reward\")\n",
    "\n",
    "plt.xlabel('Time period');\n",
    "plt.ylabel('Value');\n",
    "plt.legend();\n"
   ]
  },
  {
   "cell_type": "code",
   "execution_count": 25,
   "id": "5c3b1ec3",
   "metadata": {},
   "outputs": [],
   "source": [
    "#plt.plot([i[3] for i in env.statehistory], label = \"Y stady state\");"
   ]
  },
  {
   "cell_type": "code",
   "execution_count": null,
   "id": "8963ec9e",
   "metadata": {},
   "outputs": [],
   "source": []
  }
 ],
 "metadata": {
  "kernelspec": {
   "display_name": "Python 3 (ipykernel)",
   "language": "python",
   "name": "python3"
  },
  "language_info": {
   "codemirror_mode": {
    "name": "ipython",
    "version": 3
   },
   "file_extension": ".py",
   "mimetype": "text/x-python",
   "name": "python",
   "nbconvert_exporter": "python",
   "pygments_lexer": "ipython3",
   "version": "3.10.4"
  }
 },
 "nbformat": 4,
 "nbformat_minor": 5
}
